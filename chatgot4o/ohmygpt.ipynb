{
 "cells": [
  {
   "cell_type": "code",
   "execution_count": null,
   "metadata": {
    "vscode": {
     "languageId": "plaintext"
    }
   },
   "outputs": [],
   "source": [
    "import requests as requests"
   ]
  },
  {
   "cell_type": "code",
   "execution_count": null,
   "metadata": {
    "vscode": {
     "languageId": "plaintext"
    }
   },
   "outputs": [],
   "source": [
    "# 在这里配置您在本站的API_KEY\n",
    "api_key = \"sk-FOIcGQMsc7236Ad6671CT3BLbkFJ03Dd2b5F428040b1B8e8\"\n",
    "\n",
    "headers = {\n",
    "    \"Authorization\": 'Bearer ' + api_key,\n",
    "}"
   ]
  },
  {
   "cell_type": "code",
   "execution_count": null,
   "metadata": {
    "vscode": {
     "languageId": "plaintext"
    }
   },
   "outputs": [],
   "source": []
  },
  {
   "cell_type": "code",
   "execution_count": null,
   "metadata": {
    "vscode": {
     "languageId": "plaintext"
    }
   },
   "outputs": [],
   "source": [
    "def main(question):\n",
    "    params = {\n",
    "        \"messages\": [\n",
    "            {\n",
    "                \"role\": 'user',\n",
    "                \"content\": question\n",
    "            }\n",
    "        ],\n",
    "        # 如果需要切换模型，在这里修改\n",
    "        # \"model\": 'gpt-3.5-turbo'\n",
    "        \"model\": 'gpt-4o'\n",
    "    }\n",
    "    response = requests.post(\n",
    "        \"https://aigptx.top/v1/chat/completions\",\n",
    "        headers=headers,\n",
    "        json=params,\n",
    "        stream=False\n",
    "    )\n",
    "    print(response.text)\n",
    "    res = response.json()\n",
    "    res_content = res['choices'][0]['message']['content']\n",
    "    print(res_content)"
   ]
  },
  {
   "cell_type": "code",
   "execution_count": null,
   "metadata": {
    "vscode": {
     "languageId": "plaintext"
    }
   },
   "outputs": [],
   "source": [
    "question = input(\"输入您的问题\\n\")\n",
    "question = r'''\n",
    "使用pillow打开一张图片，然后将其转换为灰度图像，最后保存为新的文件\n",
    "'''\n",
    "\n",
    "main(question)\n"
   ]
  }
 ],
 "metadata": {
  "kernelspec": {
   "display_name": "pytorch",
   "language": "python",
   "name": "python3"
  },
  "language_info": {
   "codemirror_mode": {
    "name": "ipython",
    "version": 3
   },
   "file_extension": ".py",
   "mimetype": "text/x-python",
   "name": "python",
   "nbconvert_exporter": "python",
   "pygments_lexer": "ipython3",
   "version": "3.12.4"
  }
 },
 "nbformat": 4,
 "nbformat_minor": 2
}
