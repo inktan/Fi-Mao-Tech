{
 "cells": [
  {
   "cell_type": "code",
   "execution_count": 1,
   "metadata": {},
   "outputs": [
    {
     "data": {
      "text/plain": [
       "200438"
      ]
     },
     "execution_count": 1,
     "metadata": {},
     "output_type": "execute_result"
    }
   ],
   "source": [
    "import os\n",
    "\n",
    "img_paths = []\n",
    "img_names = []\n",
    "accepted_formats = (\".png\", \".jpg\", \".JPG\", \".jpeg\", \".webp\")\n",
    "\n",
    "for root, dirs, files in os.walk(r'D:\\Ai-clip-seacher\\AiArchLibAdd-20240822\\data-20240822'):\n",
    "    for file in files:\n",
    "        if file.endswith(accepted_formats):\n",
    "            file_path = os.path.join(root, file)\n",
    "            img_paths.append(file_path)\n",
    "            img_names.append(file)\n",
    "\n",
    "ids = []\n",
    "for file_name in img_names:\n",
    "    # 使用'_'分割文件名\n",
    "    parts = file_name.split('_')\n",
    "    # 假设ID是分割后的第一个部分\n",
    "    id_ = parts[0]\n",
    "    # 将ID添加到列表中\n",
    "    ids.append(id_)\n",
    "\n",
    "len(ids)"
   ]
  }
 ],
 "metadata": {
  "kernelspec": {
   "display_name": "pytorch",
   "language": "python",
   "name": "python3"
  },
  "language_info": {
   "codemirror_mode": {
    "name": "ipython",
    "version": 3
   },
   "file_extension": ".py",
   "mimetype": "text/x-python",
   "name": "python",
   "nbconvert_exporter": "python",
   "pygments_lexer": "ipython3",
   "version": "3.12.4"
  }
 },
 "nbformat": 4,
 "nbformat_minor": 2
}
