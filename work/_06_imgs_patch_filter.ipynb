{
 "cells": [
  {
   "cell_type": "code",
   "execution_count": 3,
   "metadata": {},
   "outputs": [],
   "source": [
    "import pandas as pd\n",
    "import os\n",
    "import shutil\n",
    "import os, csv\n",
    "from tqdm import tqdm\n",
    "from PIL import Image\n",
    "from datetime import datetime"
   ]
  },
  {
   "cell_type": "code",
   "execution_count": 4,
   "metadata": {},
   "outputs": [
    {
     "data": {
      "text/plain": [
       "1740416"
      ]
     },
     "execution_count": 4,
     "metadata": {},
     "output_type": "execute_result"
    }
   ],
   "source": [
    "1740416\n",
    "1571715\n",
    "168701\n",
    "1571715+168701"
   ]
  },
  {
   "cell_type": "code",
   "execution_count": 5,
   "metadata": {},
   "outputs": [],
   "source": [
    "import pandas as pd\n",
    "\n",
    "# 假设df是一个pandas的DataFrame对象\n",
    "df = pd.read_csv(r'e:\\work\\spatio_evo_urbanvisenv_svi\\sv\\ss_degree_grey_retain.csv')  # 读取数据"
   ]
  },
  {
   "cell_type": "code",
   "execution_count": 6,
   "metadata": {},
   "outputs": [
    {
     "data": {
      "text/plain": [
       "(9270, 1)"
      ]
     },
     "execution_count": 6,
     "metadata": {},
     "output_type": "execute_result"
    }
   ],
   "source": [
    "df.shape"
   ]
  },
  {
   "cell_type": "code",
   "execution_count": 7,
   "metadata": {},
   "outputs": [
    {
     "data": {
      "text/html": [
       "<div>\n",
       "<style scoped>\n",
       "    .dataframe tbody tr th:only-of-type {\n",
       "        vertical-align: middle;\n",
       "    }\n",
       "\n",
       "    .dataframe tbody tr th {\n",
       "        vertical-align: top;\n",
       "    }\n",
       "\n",
       "    .dataframe thead th {\n",
       "        text-align: right;\n",
       "    }\n",
       "</style>\n",
       "<table border=\"1\" class=\"dataframe\">\n",
       "  <thead>\n",
       "    <tr style=\"text-align: right;\">\n",
       "      <th></th>\n",
       "      <th>id</th>\n",
       "    </tr>\n",
       "  </thead>\n",
       "  <tbody>\n",
       "    <tr>\n",
       "      <th>0</th>\n",
       "      <td>10009_91.035891_29.63873077_202107_0.png</td>\n",
       "    </tr>\n",
       "    <tr>\n",
       "      <th>1</th>\n",
       "      <td>10009_91.035891_29.63873077_202107_180.png</td>\n",
       "    </tr>\n",
       "    <tr>\n",
       "      <th>2</th>\n",
       "      <td>10017_91.03463983_29.63729297_202107_180.png</td>\n",
       "    </tr>\n",
       "    <tr>\n",
       "      <th>3</th>\n",
       "      <td>10018_91.03413106_29.63721614_202107_180.png</td>\n",
       "    </tr>\n",
       "    <tr>\n",
       "      <th>4</th>\n",
       "      <td>10031_91.03694691_29.63971259_201608_0.png</td>\n",
       "    </tr>\n",
       "  </tbody>\n",
       "</table>\n",
       "</div>"
      ],
      "text/plain": [
       "                                             id\n",
       "0      10009_91.035891_29.63873077_202107_0.png\n",
       "1    10009_91.035891_29.63873077_202107_180.png\n",
       "2  10017_91.03463983_29.63729297_202107_180.png\n",
       "3  10018_91.03413106_29.63721614_202107_180.png\n",
       "4    10031_91.03694691_29.63971259_201608_0.png"
      ]
     },
     "execution_count": 7,
     "metadata": {},
     "output_type": "execute_result"
    }
   ],
   "source": [
    "df.head()"
   ]
  },
  {
   "cell_type": "code",
   "execution_count": 10,
   "metadata": {},
   "outputs": [],
   "source": [
    "folder_patch = r'E:\\work\\spatio_evo_urbanvisenv_svi\\sv\\degree'"
   ]
  },
  {
   "cell_type": "code",
   "execution_count": 21,
   "metadata": {},
   "outputs": [
    {
     "name": "stderr",
     "output_type": "stream",
     "text": [
      "C:\\Users\\wang.tan.GOA\\AppData\\Local\\Temp\\ipykernel_7576\\624607943.py:2: FutureWarning: Series.__getitem__ treating keys as positions is deprecated. In a future version, integer keys will always be treated as labels (consistent with DataFrame behavior). To access a value by position, use `ser.iloc[pos]`\n",
      "  name_lst = row[0].split('_')\n",
      "C:\\Users\\wang.tan.GOA\\AppData\\Local\\Temp\\ipykernel_7576\\624607943.py:4: FutureWarning: Series.__getitem__ treating keys as positions is deprecated. In a future version, integer keys will always be treated as labels (consistent with DataFrame behavior). To access a value by position, use `ser.iloc[pos]`\n",
      "  source_file =folder_patch+'\\\\'+ name_lst[0]+'_'+name_lst[1]+'_'+name_lst[2]+'\\\\'+row[0].replace('png','jpg')\n"
     ]
    }
   ],
   "source": [
    "for index,row in df.iterrows():\n",
    "    name_lst = row[0].split('_')\n",
    "\n",
    "    source_file =folder_patch+'\\\\'+ name_lst[0]+'_'+name_lst[1]+'_'+name_lst[2]+'\\\\'+row[0].replace('png','jpg')\n",
    "\n",
    "    destination_folder = r'E:\\work\\spatio_evo_urbanvisenv_svi\\sv\\degree_retain'\n",
    "    if not os.path.exists(destination_folder):\n",
    "        os.makedirs(destination_folder)\n",
    "    shutil.move(source_file, destination_folder)"
   ]
  },
  {
   "cell_type": "code",
   "execution_count": 22,
   "metadata": {},
   "outputs": [],
   "source": [
    "# folder_patch = r'F:\\sv_hangzhou\\05_sv_patch_retain'\n",
    "folder_patch = r'E:\\work\\spatio_evo_urbanvisenv_svi\\sv\\degree_retain'\n"
   ]
  },
  {
   "cell_type": "code",
   "execution_count": 23,
   "metadata": {},
   "outputs": [],
   "source": [
    "roots = []\n",
    "img_names = []\n",
    "img_paths = []\n",
    "\n",
    "accepted_formats = (\".png\", \".jpg\", \".JPG\", \".jpeg\")\n",
    "\n",
    "for root, dirs, files in os.walk(folder_patch):\n",
    "    for file in files:\n",
    "        if file.endswith(accepted_formats):\n",
    "            roots.append(root)\n",
    "            img_names.append(file)\n",
    "            file_path = os.path.join(root, file)\n",
    "            img_paths.append(file_path)"
   ]
  },
  {
   "cell_type": "code",
   "execution_count": 24,
   "metadata": {},
   "outputs": [
    {
     "data": {
      "text/plain": [
       "9270"
      ]
     },
     "execution_count": 24,
     "metadata": {},
     "output_type": "execute_result"
    }
   ],
   "source": [
    "len(img_paths)"
   ]
  },
  {
   "cell_type": "code",
   "execution_count": null,
   "metadata": {},
   "outputs": [],
   "source": []
  }
 ],
 "metadata": {
  "kernelspec": {
   "display_name": "Python 3",
   "language": "python",
   "name": "python3"
  },
  "language_info": {
   "codemirror_mode": {
    "name": "ipython",
    "version": 3
   },
   "file_extension": ".py",
   "mimetype": "text/x-python",
   "name": "python",
   "nbconvert_exporter": "python",
   "pygments_lexer": "ipython3",
   "version": "3.11.5"
  }
 },
 "nbformat": 4,
 "nbformat_minor": 2
}
