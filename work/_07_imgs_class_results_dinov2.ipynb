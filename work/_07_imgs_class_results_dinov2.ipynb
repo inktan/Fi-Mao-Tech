{
 "cells": [
  {
   "cell_type": "code",
   "execution_count": 1,
   "metadata": {},
   "outputs": [],
   "source": [
    "import faiss\n",
    "import numpy as np\n",
    "import torch\n",
    "from transformers import AutoImageProcessor, AutoModel, AutoProcessor, CLIPModel\n",
    "from PIL import Image\n",
    "import os\n",
    "from tqdm import tqdm\n",
    "import shutil\n",
    "from sklearn.cluster import KMeans"
   ]
  },
  {
   "cell_type": "code",
   "execution_count": 3,
   "metadata": {},
   "outputs": [],
   "source": [
    "device = torch.device('cuda' if torch.cuda.is_available() else \"cpu\")\n",
    "\n",
    "processor_dino = AutoImageProcessor.from_pretrained('facebook/dinov2-base',cache_dir=r'.cache\\huggingface\\hub')\n",
    "model_dino = AutoModel.from_pretrained('facebook/dinov2-base',cache_dir=r'.cache\\huggingface\\hub').to(device)"
   ]
  },
  {
   "cell_type": "code",
   "execution_count": 4,
   "metadata": {},
   "outputs": [],
   "source": [
    "def add_vector_to_index(embedding, index):\n",
    "    vector = embedding.detach().cpu().numpy()\n",
    "    vector = np.float32(vector)\n",
    "    faiss.normalize_L2(vector)\n",
    "    index.add(vector)\n",
    "\n",
    "def extract_features_dino(image):\n",
    "    with torch.no_grad():\n",
    "        inputs = processor_dino(images=image, return_tensors=\"pt\").to(device)\n",
    "        outputs = model_dino(**inputs)\n",
    "        image_features = outputs.last_hidden_state\n",
    "        return image_features.mean(dim=1)"
   ]
  },
  {
   "cell_type": "code",
   "execution_count": 5,
   "metadata": {},
   "outputs": [
    {
     "data": {
      "text/plain": [
       "9270"
      ]
     },
     "execution_count": 5,
     "metadata": {},
     "output_type": "execute_result"
    }
   ],
   "source": [
    "folder_patch = r'E:\\work\\spatio_evo_urbanvisenv_svi\\sv\\degree_retain'\n",
    "# 图片库所在文件夹位置\n",
    "roots = []\n",
    "img_names = []\n",
    "img_paths = []\n",
    "\n",
    "accepted_formats = (\".png\", \".jpg\", \".JPG\", \".jpeg\")\n",
    "\n",
    "for root, dirs, files in os.walk(folder_patch):\n",
    "    for file in files:\n",
    "        if file.endswith(accepted_formats):\n",
    "            roots.append(root)\n",
    "            img_names.append(file)\n",
    "            file_path = os.path.join(root, file)\n",
    "            img_paths.append(file_path)\n",
    "len(img_paths)"
   ]
  },
  {
   "cell_type": "code",
   "execution_count": 6,
   "metadata": {},
   "outputs": [
    {
     "name": "stderr",
     "output_type": "stream",
     "text": [
      "100%|██████████| 9270/9270 [21:58<00:00,  7.03it/s]  \n"
     ]
    }
   ],
   "source": [
    "index_dino = faiss.IndexFlatL2(768)\n",
    "for image_path in tqdm(img_paths):\n",
    "    img = Image.open(image_path).convert('RGB')\n",
    "    dino_features = extract_features_dino(img)\n",
    "    add_vector_to_index(dino_features,index_dino)"
   ]
  },
  {
   "cell_type": "code",
   "execution_count": 7,
   "metadata": {},
   "outputs": [
    {
     "data": {
      "text/plain": [
       "9270"
      ]
     },
     "execution_count": 7,
     "metadata": {},
     "output_type": "execute_result"
    }
   ],
   "source": [
    "faiss.write_index(index_dino,f\"{folder_patch}\\dino_768.index\")\n",
    "# index_dino = faiss.read_index(f\"{image_fold}\\dino_768.index\")\n",
    "# index_dino = faiss.read_index(f\"f:\\lcz\\dino_640.index\")\n",
    "index_dino.d\n",
    "index_dino.ntotal"
   ]
  },
  {
   "cell_type": "code",
   "execution_count": 16,
   "metadata": {},
   "outputs": [
    {
     "data": {
      "text/plain": [
       "2166.773193359375"
      ]
     },
     "execution_count": 16,
     "metadata": {},
     "output_type": "execute_result"
    }
   ],
   "source": [
    "# 创建一个数组来存储所有向量\n",
    "vectors = np.empty((index_dino.ntotal, index_dino.d), dtype='float32')\n",
    "\n",
    "# 遍历索引并获取每个向量\n",
    "for i in range(index_dino.ntotal):\n",
    "    vectors[i] = index_dino.reconstruct(i)\n",
    "\n",
    "# 执行k-means聚类\n",
    "num_clusters = 30\n",
    "kmeans = faiss.Kmeans(d = index_dino.d, k=num_clusters, gpu=True)\n",
    "# reconstruct_n 方法从索引中重建所有向量\n",
    "\n",
    "kmeans.train(vectors)"
   ]
  },
  {
   "cell_type": "code",
   "execution_count": 17,
   "metadata": {},
   "outputs": [],
   "source": [
    "# 'D' 是距离，'I' 是每个查询向量在聚类中心中的索引\n",
    "D, I = kmeans.index.search(vectors, 1) \n",
    "# 获取类别索引\n",
    "labels = I[:, 0]"
   ]
  },
  {
   "cell_type": "code",
   "execution_count": 18,
   "metadata": {},
   "outputs": [
    {
     "data": {
      "text/plain": [
       "array([ 6, 29,  4, ...,  1, 15, 14], dtype=int64)"
      ]
     },
     "execution_count": 18,
     "metadata": {},
     "output_type": "execute_result"
    }
   ],
   "source": [
    "labels"
   ]
  },
  {
   "cell_type": "code",
   "execution_count": 19,
   "metadata": {},
   "outputs": [],
   "source": [
    "result_dir = r'E:\\work\\spatio_evo_urbanvisenv_svi\\sv\\degree_kmeans_30'"
   ]
  },
  {
   "cell_type": "code",
   "execution_count": 20,
   "metadata": {},
   "outputs": [
    {
     "name": "stderr",
     "output_type": "stream",
     "text": [
      "100%|██████████| 30/30 [05:41<00:00, 11.37s/it]\n"
     ]
    }
   ],
   "source": [
    "for label_id in tqdm(range(num_clusters)):\n",
    "    idxs = np.where(labels == label_id)[0] # 取出对应聚类id的图片id\n",
    "    patch_save_dir = os.path.join(result_dir, str(label_id))   # 保存聚类结果的子文件夹路径\n",
    "    if not os.path.exists(patch_save_dir):\n",
    "        os.makedirs(patch_save_dir)\n",
    "    for i in idxs:\n",
    "        shutil.copy(img_paths[i], patch_save_dir)"
   ]
  },
  {
   "cell_type": "code",
   "execution_count": null,
   "metadata": {},
   "outputs": [],
   "source": []
  }
 ],
 "metadata": {
  "kernelspec": {
   "display_name": "Python 3",
   "language": "python",
   "name": "python3"
  },
  "language_info": {
   "codemirror_mode": {
    "name": "ipython",
    "version": 3
   },
   "file_extension": ".py",
   "mimetype": "text/x-python",
   "name": "python",
   "nbconvert_exporter": "python",
   "pygments_lexer": "ipython3",
   "version": "3.11.5"
  }
 },
 "nbformat": 4,
 "nbformat_minor": 2
}
