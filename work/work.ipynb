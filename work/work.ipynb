{
 "cells": [
  {
   "cell_type": "code",
   "execution_count": 1,
   "metadata": {},
   "outputs": [],
   "source": [
    "# -*- coding: utf-8 -*-\n",
    "\n",
    "import os, csv, torch, numpy, scipy.io, PIL.Image, torchvision.transforms,sys,time,gc\n",
    "import pandas as pd\n",
    "import numpy as np\n",
    "from mit_semseg.models import ModelBuilder, SegmentationModule\n",
    "from mit_semseg.utils import colorEncode\n",
    "from PIL import Image\n",
    "from tqdm import tqdm"
   ]
  },
  {
   "cell_type": "code",
   "execution_count": 8,
   "metadata": {},
   "outputs": [],
   "source": [
    "def extra_files(image_folder):\n",
    "    # image_folder = r'E:\\work\\spatio_evo_urbanvisenv_svi\\sv\\degree_kmeans_30\\0-墙面密窗+小商店'\n",
    "    accepted_formats = (\".png\", \".jpg\", \".JPG\", \".jpeg\")\n",
    "\n",
    "    roots = []\n",
    "    img_names = []\n",
    "    img_paths = []\n",
    "\n",
    "    for root, dirs, files in os.walk(image_folder):\n",
    "        for file in files:\n",
    "            if file.endswith(accepted_formats):\n",
    "                roots.append(root)\n",
    "                img_names.append(file)\n",
    "                file_path = os.path.join(root, file)\n",
    "                img_paths.append(file_path)\n",
    "    return img_names"
   ]
  },
  {
   "cell_type": "code",
   "execution_count": 7,
   "metadata": {},
   "outputs": [
    {
     "ename": "NameError",
     "evalue": "name 'extra_files' is not defined",
     "output_type": "error",
     "traceback": [
      "\u001b[1;31m---------------------------------------------------------------------------\u001b[0m",
      "\u001b[1;31mNameError\u001b[0m                                 Traceback (most recent call last)",
      "Cell \u001b[1;32mIn[7], line 10\u001b[0m\n\u001b[0;32m      6\u001b[0m full_path \u001b[38;5;241m=\u001b[39m os\u001b[38;5;241m.\u001b[39mpath\u001b[38;5;241m.\u001b[39mjoin(folder_path, item)\n\u001b[0;32m      7\u001b[0m \u001b[38;5;28;01mif\u001b[39;00m os\u001b[38;5;241m.\u001b[39mpath\u001b[38;5;241m.\u001b[39misdir(full_path):\n\u001b[0;32m      8\u001b[0m     \u001b[38;5;66;03m# print(f'文件夹: {item}')\u001b[39;00m\n\u001b[0;32m      9\u001b[0m     \u001b[38;5;66;03m# print(f'文件夹: {full_path}')\u001b[39;00m\n\u001b[1;32m---> 10\u001b[0m     img_names \u001b[38;5;241m=\u001b[39m \u001b[43mextra_files\u001b[49m(full_path)\n\u001b[0;32m     11\u001b[0m     \u001b[38;5;28mprint\u001b[39m(img_names)\n",
      "\u001b[1;31mNameError\u001b[0m: name 'extra_files' is not defined"
     ]
    }
   ],
   "source": [
    "import os\n",
    "\n",
    "folder_path = r'E:\\work\\spatio_evo_urbanvisenv_svi\\sv\\degree_kmeans_30'\n",
    "\n",
    "for item in os.listdir(folder_path):\n",
    "    full_path = os.path.join(folder_path, item)\n",
    "    if os.path.isdir(full_path):\n",
    "        # print(f'文件夹: {item}')\n",
    "        # print(f'文件夹: {full_path}')\n",
    "        img_names = extra_files(full_path)\n",
    "        print(len(img_names))\n",
    "\n"
   ]
  },
  {
   "cell_type": "code",
   "execution_count": 2,
   "metadata": {},
   "outputs": [],
   "source": []
  },
  {
   "cell_type": "code",
   "execution_count": null,
   "metadata": {},
   "outputs": [],
   "source": [
    "import os\n",
    "import csv\n",
    "\n",
    "# 假设你的文件名列表保存在一个列表中\n",
    "file_names = [\n",
    "    '34_91.13876335_29.66634553_201309_180.jpg',\n",
    "    '34_91.13876335_29.66634553_201309_180.jpg'\n",
    "]\n",
    "\n",
    "# 创建一个CSV文件，如果文件已存在则追加内容\n",
    "with open('output.csv', 'w', newline='') as csvfile:\n",
    "    csv_writer = csv.writer(csvfile)\n",
    "    # 写入CSV文件的表头\n",
    "    csv_writer.writerow(['ID', 'Longitude', 'Latitude'])\n",
    "\n",
    "    # 遍历文件名列表\n",
    "    for file_name in file_names:\n",
    "        # 使用split函数根据下划线分割文件名\n",
    "        parts = file_name.split('_')\n",
    "        \n",
    "        # 提取所需信息\n",
    "        id = parts[0]\n",
    "        longitude = parts[1]\n",
    "        latitude = parts[2]\n",
    "        \n",
    "        # 写入一行数据到CSV文件\n",
    "        csv_writer.writerow([id, longitude, latitude])\n",
    "\n",
    "print('CSV文件已生成。')\n"
   ]
  }
 ],
 "metadata": {
  "kernelspec": {
   "display_name": "Python 3",
   "language": "python",
   "name": "python3"
  },
  "language_info": {
   "codemirror_mode": {
    "name": "ipython",
    "version": 3
   },
   "file_extension": ".py",
   "mimetype": "text/x-python",
   "name": "python",
   "nbconvert_exporter": "python",
   "pygments_lexer": "ipython3",
   "version": "3.11.5"
  }
 },
 "nbformat": 4,
 "nbformat_minor": 2
}
