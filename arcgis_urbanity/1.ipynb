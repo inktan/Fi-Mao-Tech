{
 "cells": [
  {
   "cell_type": "code",
   "execution_count": 4,
   "metadata": {},
   "outputs": [
    {
     "name": "stdout",
     "output_type": "stream",
     "text": [
      "PROJCS[\"SVY21\",GEOGCS[\"SVY21[WGS84]\",DATUM[\"WGS_1984\",SPHEROID[\"WGS 84\",6378137,298.257223563,AUTHORITY[\"EPSG\",\"7030\"]],AUTHORITY[\"EPSG\",\"6326\"]],PRIMEM[\"Greenwich\",0],UNIT[\"Degree\",0.0174532925199433]],PROJECTION[\"Transverse_Mercator\"],PARAMETER[\"latitude_of_origin\",1.36666666666667],PARAMETER[\"central_meridian\",103.833333333333],PARAMETER[\"scale_factor\",1],PARAMETER[\"false_easting\",28001.642],PARAMETER[\"false_northing\",38744.572],UNIT[\"metre\",1,AUTHORITY[\"EPSG\",\"9001\"]],AXIS[\"Easting\",EAST],AXIS[\"Northing\",NORTH]]\n"
     ]
    }
   ],
   "source": [
    "import geopandas as gpd\n",
    "\n",
    "# 加载 SHP 文件\n",
    "shapefile_path = \"../shapefile/tanjong_pagar_singapore.shp\"\n",
    "gdf = gpd.read_file(shapefile_path)\n",
    "\n",
    "# 获取原始坐标系\n",
    "source_crs_epsg = gdf.crs\n",
    "\n",
    "# 打印坐标系信息\n",
    "print(source_crs_epsg)"
   ]
  },
  {
   "cell_type": "code",
   "execution_count": null,
   "metadata": {},
   "outputs": [],
   "source": [
    "import geopandas as gpd\n",
    "from pyproj import CRS\n",
    "\n",
    "# 加载 SHP 文件\n",
    "shapefile_path = \"..\\shapefile\\tanjong_pagar_singapore.dbf\"\n",
    "gdf = gpd.read_file(shapefile_path)\n",
    "\n",
    "# 定义坐标系\n",
    "source_crs = CRS.from_epsg(原始坐标系编号)\n",
    "target_crs = CRS.from_epsg(4326)  # WGS 84 的 EPSG 编号为 4326\n",
    "\n",
    "# 转换坐标系\n",
    "gdf_wgs84 = gdf.to_crs(target_crs)\n",
    "\n",
    "# 保存为新的 SHP 文件\n",
    "output_filepath = \"path_to_output.shp\"\n",
    "gdf_wgs84.to_file(output_filepath)"
   ]
  },
  {
   "cell_type": "code",
   "execution_count": 2,
   "metadata": {},
   "outputs": [
    {
     "name": "stderr",
     "output_type": "stream",
     "text": [
      "c:\\Users\\20228\\Anaconda3\\lib\\site-packages\\geopandas\\_compat.py:124: UserWarning: The Shapely GEOS version (3.11.1-CAPI-1.17.1) is incompatible with the GEOS version PyGEOS was compiled with (3.10.4-CAPI-1.16.2). Conversions between both will be slow.\n",
      "  warnings.warn(\n",
      "<ipython-input-2-c7d8b34f9f3d>:1: DeprecationWarning: Shapely 2.0 is installed, but because PyGEOS is also installed, GeoPandas still uses PyGEOS by default. However, starting with version 0.14, the default will switch to Shapely. To force to use Shapely 2.0 now, you can either uninstall PyGEOS or set the environment variable USE_PYGEOS=0. You can do this before starting the Python process, or in your code before importing geopandas:\n",
      "\n",
      "import os\n",
      "os.environ['USE_PYGEOS'] = '0'\n",
      "import geopandas\n",
      "\n",
      "In the next release, GeoPandas will switch to using Shapely by default, even if PyGEOS is installed. If you only have PyGEOS installed to get speed-ups, this switch should be smooth. However, if you are using PyGEOS directly (calling PyGEOS functions on geometries from GeoPandas), this will then stop working and you are encouraged to migrate from PyGEOS to Shapely 2.0 (https://shapely.readthedocs.io/en/latest/migration_pygeos.html).\n",
      "  import geopandas as gpd\n"
     ]
    },
    {
     "name": "stdout",
     "output_type": "stream",
     "text": [
      "EPSG:4326\n"
     ]
    }
   ],
   "source": [
    "import geopandas as gpd\n",
    "\n",
    "# 加载 SHP 文件\n",
    "shapefile_path = \"../shapefile/tanjong_pagar_singapore.shp\"\n",
    "gdf = gpd.read_file(shapefile_path)\n",
    "\n",
    "# 定义目标坐标系为 EPSG:4326\n",
    "target_crs = \"EPSG:4326\"\n",
    "\n",
    "# 将坐标系进行转换\n",
    "gdf = gdf.to_crs(target_crs)\n",
    "\n",
    "# 打印转换后的坐标系信息\n",
    "print(gdf.crs)"
   ]
  },
  {
   "cell_type": "code",
   "execution_count": null,
   "metadata": {},
   "outputs": [],
   "source": [
    "output_path = \"../shapefile/tanjong_pagar_singapore_4326.shp\"\n",
    "gdf.to_file(output_path, driver='ESRI Shapefile')"
   ]
  },
  {
   "cell_type": "markdown",
   "metadata": {},
   "source": [
    "转换singpore\n"
   ]
  },
  {
   "cell_type": "code",
   "execution_count": 6,
   "metadata": {},
   "outputs": [
    {
     "name": "stdout",
     "output_type": "stream",
     "text": [
      "EPSG:4326\n"
     ]
    }
   ],
   "source": [
    "import geopandas as gpd\n",
    "# 加载 SHP 文件\n",
    "shapefile_path = \"../新加披shapefile/Subzone_Census2010single.shp\"\n",
    "gdf = gpd.read_file(shapefile_path)\n",
    "\n",
    "# 定义目标坐标系为 EPSG:4326\n",
    "target_crs = \"EPSG:4326\"\n",
    "\n",
    "# 将坐标系进行转换\n",
    "gdf = gdf.to_crs(target_crs)\n",
    "\n",
    "# 打印转换后的坐标系信息\n",
    "print(gdf.crs)"
   ]
  },
  {
   "cell_type": "code",
   "execution_count": 7,
   "metadata": {},
   "outputs": [],
   "source": [
    "output_path = \"../shapefile/singapore_4326.shp\"\n",
    "gdf.to_file(output_path, driver='ESRI Shapefile')"
   ]
  },
  {
   "cell_type": "code",
   "execution_count": 8,
   "metadata": {},
   "outputs": [],
   "source": [
    "# 定义输出文件路径\n",
    "output_path = \"../shapefile/singapore_4326.geojson\"\n",
    "# 转换为 GeoJSON 并保存到文件\n",
    "gdf.to_file(output_path, driver='GeoJSON')\n"
   ]
  },
  {
   "cell_type": "code",
   "execution_count": 9,
   "metadata": {},
   "outputs": [
    {
     "data": {
      "text/plain": [
       "<Axes: >"
      ]
     },
     "execution_count": 9,
     "metadata": {},
     "output_type": "execute_result"
    },
    {
     "data": {
      "image/png": "[encoded data removed]",
      "text/plain": [
       "<Figure size 432x288 with 1 Axes>"
      ]
     },
     "metadata": {
      "needs_background": "light"
     },
     "output_type": "display_data"
    }
   ],
   "source": [
    "gdf.plot()"
   ]
  }
 ],
 "metadata": {
  "kernelspec": {
   "display_name": "Python 3.8.5 ('base')",
   "language": "python",
   "name": "python3"
  },
  "language_info": {
   "codemirror_mode": {
    "name": "ipython",
    "version": 3
   },
   "file_extension": ".py",
   "mimetype": "text/x-python",
   "name": "python",
   "nbconvert_exporter": "python",
   "pygments_lexer": "ipython3",
   "version": "3.11.5"
  },
  "orig_nbformat": 4,
  "vscode": {
   "interpreter": {
    "hash": "587a2e50e85b4f56756ab2c01631d0260799c2c0691c88ec45388e613d7a7cba"
   }
  }
 },
 "nbformat": 4,
 "nbformat_minor": 2
}
