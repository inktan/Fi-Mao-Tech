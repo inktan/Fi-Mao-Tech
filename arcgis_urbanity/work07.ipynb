{
 "cells": [
  {
   "cell_type": "code",
   "execution_count": 3,
   "metadata": {},
   "outputs": [],
   "source": [
    "import geopandas as gpd\n",
    "import pandas as pd\n",
    "import glob"
   ]
  },
  {
   "cell_type": "code",
   "execution_count": 5,
   "metadata": {},
   "outputs": [],
   "source": [
    "shapefile_path = r\"E:\\work\\spatio_evo_urbanvisenv_svi\\范围线\\new_2024_03_25\\six_urban_16_cluser.shp\"\n",
    "shp_ = gpd.read_file(shapefile_path)"
   ]
  },
  {
   "cell_type": "code",
   "execution_count": 6,
   "metadata": {},
   "outputs": [
    {
     "data": {
      "text/plain": [
       "(2566, 21)"
      ]
     },
     "execution_count": 6,
     "metadata": {},
     "output_type": "execute_result"
    }
   ],
   "source": [
    "shp_.shape"
   ]
  },
  {
   "cell_type": "code",
   "execution_count": 7,
   "metadata": {},
   "outputs": [
    {
     "data": {
      "text/html": [
       "<div>\n",
       "<style scoped>\n",
       "    .dataframe tbody tr th:only-of-type {\n",
       "        vertical-align: middle;\n",
       "    }\n",
       "\n",
       "    .dataframe tbody tr th {\n",
       "        vertical-align: top;\n",
       "    }\n",
       "\n",
       "    .dataframe thead th {\n",
       "        text-align: right;\n",
       "    }\n",
       "</style>\n",
       "<table border=\"1\" class=\"dataframe\">\n",
       "  <thead>\n",
       "    <tr style=\"text-align: right;\">\n",
       "      <th></th>\n",
       "      <th>hexid</th>\n",
       "      <th>assortativ</th>\n",
       "      <th>sky</th>\n",
       "      <th>plant</th>\n",
       "      <th>building</th>\n",
       "      <th>road</th>\n",
       "      <th>beautiful</th>\n",
       "      <th>boring</th>\n",
       "      <th>depressing</th>\n",
       "      <th>lively</th>\n",
       "      <th>...</th>\n",
       "      <th>wealthy</th>\n",
       "      <th>poi_densit</th>\n",
       "      <th>residentia</th>\n",
       "      <th>industrial</th>\n",
       "      <th>building_r</th>\n",
       "      <th>road_ratio</th>\n",
       "      <th>nearest_di</th>\n",
       "      <th>cluster</th>\n",
       "      <th>area</th>\n",
       "      <th>geometry</th>\n",
       "    </tr>\n",
       "  </thead>\n",
       "  <tbody>\n",
       "    <tr>\n",
       "      <th>0</th>\n",
       "      <td>8a3c72772727fff</td>\n",
       "      <td>0.037037</td>\n",
       "      <td>0.398677</td>\n",
       "      <td>0.148398</td>\n",
       "      <td>0.160401</td>\n",
       "      <td>0.279584</td>\n",
       "      <td>0.602328</td>\n",
       "      <td>0.47779</td>\n",
       "      <td>0.515704</td>\n",
       "      <td>0.743486</td>\n",
       "      <td>...</td>\n",
       "      <td>0.389148</td>\n",
       "      <td>0.0</td>\n",
       "      <td>0.242798</td>\n",
       "      <td>0.000593</td>\n",
       "      <td>0.016093</td>\n",
       "      <td>0.090968</td>\n",
       "      <td>0.0</td>\n",
       "      <td>0</td>\n",
       "      <td>15994</td>\n",
       "      <td>POLYGON ((91.01385 29.63066, 91.01312 29.63035...</td>\n",
       "    </tr>\n",
       "  </tbody>\n",
       "</table>\n",
       "<p>1 rows × 21 columns</p>\n",
       "</div>"
      ],
      "text/plain": [
       "             hexid  assortativ       sky     plant  building      road  \\\n",
       "0  8a3c72772727fff    0.037037  0.398677  0.148398  0.160401  0.279584   \n",
       "\n",
       "   beautiful   boring  depressing    lively  ...   wealthy  poi_densit  \\\n",
       "0   0.602328  0.47779    0.515704  0.743486  ...  0.389148         0.0   \n",
       "\n",
       "   residentia  industrial  building_r  road_ratio  nearest_di  cluster   area  \\\n",
       "0    0.242798    0.000593    0.016093    0.090968         0.0        0  15994   \n",
       "\n",
       "                                            geometry  \n",
       "0  POLYGON ((91.01385 29.63066, 91.01312 29.63035...  \n",
       "\n",
       "[1 rows x 21 columns]"
      ]
     },
     "execution_count": 7,
     "metadata": {},
     "output_type": "execute_result"
    }
   ],
   "source": [
    "shp_.head(1)"
   ]
  },
  {
   "cell_type": "code",
   "execution_count": 8,
   "metadata": {},
   "outputs": [
    {
     "data": {
      "text/html": [
       "<div>\n",
       "<style scoped>\n",
       "    .dataframe tbody tr th:only-of-type {\n",
       "        vertical-align: middle;\n",
       "    }\n",
       "\n",
       "    .dataframe tbody tr th {\n",
       "        vertical-align: top;\n",
       "    }\n",
       "\n",
       "    .dataframe thead th {\n",
       "        text-align: right;\n",
       "    }\n",
       "</style>\n",
       "<table border=\"1\" class=\"dataframe\">\n",
       "  <thead>\n",
       "    <tr style=\"text-align: right;\">\n",
       "      <th></th>\n",
       "      <th>sky</th>\n",
       "      <th>plant</th>\n",
       "      <th>building</th>\n",
       "      <th>road</th>\n",
       "      <th>beautiful</th>\n",
       "      <th>boring</th>\n",
       "      <th>depressing</th>\n",
       "      <th>lively</th>\n",
       "      <th>safety</th>\n",
       "      <th>wealthy</th>\n",
       "    </tr>\n",
       "  </thead>\n",
       "  <tbody>\n",
       "    <tr>\n",
       "      <th>0</th>\n",
       "      <td>0.398677</td>\n",
       "      <td>0.148398</td>\n",
       "      <td>0.160401</td>\n",
       "      <td>0.279584</td>\n",
       "      <td>0.602328</td>\n",
       "      <td>0.477790</td>\n",
       "      <td>0.515704</td>\n",
       "      <td>0.743486</td>\n",
       "      <td>0.855211</td>\n",
       "      <td>0.389148</td>\n",
       "    </tr>\n",
       "    <tr>\n",
       "      <th>1</th>\n",
       "      <td>0.389933</td>\n",
       "      <td>0.082934</td>\n",
       "      <td>0.125914</td>\n",
       "      <td>0.440832</td>\n",
       "      <td>0.574470</td>\n",
       "      <td>0.543052</td>\n",
       "      <td>0.498549</td>\n",
       "      <td>0.896338</td>\n",
       "      <td>0.913531</td>\n",
       "      <td>0.439075</td>\n",
       "    </tr>\n",
       "    <tr>\n",
       "      <th>2</th>\n",
       "      <td>0.435742</td>\n",
       "      <td>0.053410</td>\n",
       "      <td>0.112347</td>\n",
       "      <td>0.481759</td>\n",
       "      <td>0.654400</td>\n",
       "      <td>0.683499</td>\n",
       "      <td>0.363878</td>\n",
       "      <td>0.893925</td>\n",
       "      <td>0.926432</td>\n",
       "      <td>0.438617</td>\n",
       "    </tr>\n",
       "    <tr>\n",
       "      <th>3</th>\n",
       "      <td>0.205182</td>\n",
       "      <td>0.069679</td>\n",
       "      <td>0.178654</td>\n",
       "      <td>0.247285</td>\n",
       "      <td>0.520743</td>\n",
       "      <td>0.314052</td>\n",
       "      <td>0.639304</td>\n",
       "      <td>0.748478</td>\n",
       "      <td>0.760587</td>\n",
       "      <td>0.398433</td>\n",
       "    </tr>\n",
       "    <tr>\n",
       "      <th>4</th>\n",
       "      <td>0.404597</td>\n",
       "      <td>0.073853</td>\n",
       "      <td>0.185395</td>\n",
       "      <td>0.427943</td>\n",
       "      <td>0.588215</td>\n",
       "      <td>0.600304</td>\n",
       "      <td>0.473011</td>\n",
       "      <td>0.830729</td>\n",
       "      <td>0.788581</td>\n",
       "      <td>0.310048</td>\n",
       "    </tr>\n",
       "  </tbody>\n",
       "</table>\n",
       "</div>"
      ],
      "text/plain": [
       "        sky     plant  building      road  beautiful    boring  depressing  \\\n",
       "0  0.398677  0.148398  0.160401  0.279584   0.602328  0.477790    0.515704   \n",
       "1  0.389933  0.082934  0.125914  0.440832   0.574470  0.543052    0.498549   \n",
       "2  0.435742  0.053410  0.112347  0.481759   0.654400  0.683499    0.363878   \n",
       "3  0.205182  0.069679  0.178654  0.247285   0.520743  0.314052    0.639304   \n",
       "4  0.404597  0.073853  0.185395  0.427943   0.588215  0.600304    0.473011   \n",
       "\n",
       "     lively    safety   wealthy  \n",
       "0  0.743486  0.855211  0.389148  \n",
       "1  0.896338  0.913531  0.439075  \n",
       "2  0.893925  0.926432  0.438617  \n",
       "3  0.748478  0.760587  0.398433  \n",
       "4  0.830729  0.788581  0.310048  "
      ]
     },
     "execution_count": 8,
     "metadata": {},
     "output_type": "execute_result"
    }
   ],
   "source": [
    "shp_02 = shp_.iloc[:,2:12]\n",
    "shp_02.head()"
   ]
  },
  {
   "cell_type": "code",
   "execution_count": 13,
   "metadata": {},
   "outputs": [
    {
     "name": "stderr",
     "output_type": "stream",
     "text": [
      "C:\\Users\\wang.tan.GOA\\AppData\\Roaming\\Python\\Python311\\site-packages\\sklearn\\cluster\\_kmeans.py:1416: FutureWarning: The default value of `n_init` will change from 10 to 'auto' in 1.4. Set the value of `n_init` explicitly to suppress the warning\n",
      "  super()._check_params_vs_input(X, default_n_init=10)\n"
     ]
    },
    {
     "data": {
      "text/plain": [
       "(2566,)"
      ]
     },
     "execution_count": 13,
     "metadata": {},
     "output_type": "execute_result"
    }
   ],
   "source": [
    "import geopandas as gpd\n",
    "from sklearn.cluster import KMeans\n",
    "import numpy as np\n",
    "# 使用KMeans进行聚类分析\n",
    "kmeans = KMeans(n_clusters=100, random_state=0).fit(shp_02)\n",
    "# 获取聚类标签\n",
    "labels = kmeans.labels_\n",
    "labels.shape "
   ]
  },
  {
   "cell_type": "code",
   "execution_count": 72,
   "metadata": {},
   "outputs": [
    {
     "name": "stdout",
     "output_type": "stream",
     "text": [
      "平均轮廓宽度:  0.26440468700076597\n"
     ]
    }
   ],
   "source": [
    "from sklearn.metrics import silhouette_score\n",
    "# 计算平均轮廓宽度\n",
    "silhouette_avg = silhouette_score(shp_02, labels)\n",
    "\n",
    "print(\"平均轮廓宽度: \", silhouette_avg)"
   ]
  },
  {
   "cell_type": "code",
   "execution_count": 74,
   "metadata": {},
   "outputs": [
    {
     "data": {
      "text/plain": [
       "array([ 0.3381652 ,  0.52762713,  0.4999994 , -0.05800563,  0.25888104,\n",
       "        0.60184634,  0.002291  ,  0.17527367,  0.69757592,  0.1616763 ,\n",
       "        0.18954493,  0.24093852,  0.87507094,  0.16105238,  0.01159334,\n",
       "        0.89516804,  0.37511597,  0.01836398,  0.16131105,  0.03747849,\n",
       "        0.92932032,  0.52675765, -0.07332121,  0.40078253,  0.17206913,\n",
       "       -0.00608412,  0.91949937,  0.00295735, -0.16816008,  0.78689887,\n",
       "        0.57711006,  0.06294925,  0.30737437,  0.51863512,  0.52346705,\n",
       "        0.16863895,  0.23261328,  0.02671216,  0.35258019,  0.17370941,\n",
       "        0.1173579 ,  0.49265148,  0.34125239,  0.46171139,  0.03750819,\n",
       "        0.16741336,  0.88367471, -0.0710882 ,  0.69009326,  0.03272124,\n",
       "        0.09475369,  0.80725332, -0.07394216,  0.08777617,  0.18866656,\n",
       "        0.24891212,  0.30825206,  0.09991169,  0.67966162,  0.03996987,\n",
       "        0.84201101,  0.0245948 ,  0.07057936,  0.37993589,  0.10806679,\n",
       "        0.0677328 ,  0.80958324, -0.03838264,  0.33504904,  0.27436841,\n",
       "        0.34086153,  0.76752224, -0.02139036,  0.19577321,  0.63496044,\n",
       "       -0.02482571,  0.24530252, -0.07123074,  0.79645821,  0.05588788,\n",
       "        0.86086982,  0.07989372,  0.19312407,  0.42245326,  0.2879827 ,\n",
       "       -0.09548012,  0.47611593,  0.49462578,  0.11026489, -0.10725524,\n",
       "        0.52118167,  0.05555479,  0.10233856,  0.87794951,  0.15618089,\n",
       "        0.10382351,  0.73645596,  0.0974734 ,  0.14340929,  0.34413554])"
      ]
     },
     "execution_count": 74,
     "metadata": {},
     "output_type": "execute_result"
    }
   ],
   "source": [
    "from sklearn.metrics import silhouette_samples\n",
    "\n",
    "# 计算每个样本的轮廓宽度\n",
    "silhouette_values = silhouette_samples(shp_02, labels)\n",
    "\n",
    "# 为每个簇计算平均轮廓宽度\n",
    "cluster_silhouette_values = np.array([np.mean(silhouette_values[labels == i])\n",
    "                                      for i in range(kmeans.n_clusters)])\n",
    "\n",
    "cluster_silhouette_values\n"
   ]
  },
  {
   "cell_type": "code",
   "execution_count": 9,
   "metadata": {},
   "outputs": [
    {
     "ename": "NameError",
     "evalue": "name 'cluster_silhouette_values' is not defined",
     "output_type": "error",
     "traceback": [
      "\u001b[1;31m---------------------------------------------------------------------------\u001b[0m",
      "\u001b[1;31mNameError\u001b[0m                                 Traceback (most recent call last)",
      "Cell \u001b[1;32mIn[9], line 1\u001b[0m\n\u001b[1;32m----> 1\u001b[0m shp_04 \u001b[38;5;241m=\u001b[39m pd\u001b[38;5;241m.\u001b[39mDataFrame(\u001b[43mcluster_silhouette_values\u001b[49m)\u001b[38;5;241m.\u001b[39mreset_index()\n\u001b[0;32m      2\u001b[0m shp_04\u001b[38;5;241m.\u001b[39mcolumns \u001b[38;5;241m=\u001b[39m [\u001b[38;5;124m'\u001b[39m\u001b[38;5;124mcluster\u001b[39m\u001b[38;5;124m'\u001b[39m,\u001b[38;5;124m'\u001b[39m\u001b[38;5;124mSilhouette Score\u001b[39m\u001b[38;5;124m'\u001b[39m]\n\u001b[0;32m      4\u001b[0m shp_04\u001b[38;5;241m.\u001b[39mhead()\n",
      "\u001b[1;31mNameError\u001b[0m: name 'cluster_silhouette_values' is not defined"
     ]
    }
   ],
   "source": [
    "shp_04 = pd.DataFrame(cluster_silhouette_values).reset_index()\n",
    "shp_04.columns = ['cluster','Silhouette Score']\n",
    "\n",
    "shp_04.head()\n",
    "# shp_04.shape"
   ]
  },
  {
   "cell_type": "code",
   "execution_count": 1,
   "metadata": {},
   "outputs": [
    {
     "ename": "NameError",
     "evalue": "name 'pd' is not defined",
     "output_type": "error",
     "traceback": [
      "\u001b[1;31m---------------------------------------------------------------------------\u001b[0m",
      "\u001b[1;31mNameError\u001b[0m                                 Traceback (most recent call last)",
      "Cell \u001b[1;32mIn[1], line 12\u001b[0m\n\u001b[0;32m      9\u001b[0m \u001b[38;5;66;03m# 合并列表\u001b[39;00m\n\u001b[0;32m     10\u001b[0m numbers_list \u001b[38;5;241m=\u001b[39m np\u001b[38;5;241m.\u001b[39mconcatenate([first_six, last_ninety_four])\n\u001b[1;32m---> 12\u001b[0m shp_05 \u001b[38;5;241m=\u001b[39m \u001b[43mpd\u001b[49m\u001b[38;5;241m.\u001b[39mDataFrame(numbers_list)\u001b[38;5;241m.\u001b[39mreset_index()\n\u001b[0;32m     13\u001b[0m shp_05\u001b[38;5;241m.\u001b[39mcolumns \u001b[38;5;241m=\u001b[39m [\u001b[38;5;124m'\u001b[39m\u001b[38;5;124mcluster\u001b[39m\u001b[38;5;124m'\u001b[39m,\u001b[38;5;124m'\u001b[39m\u001b[38;5;124mSilhouette Score\u001b[39m\u001b[38;5;124m'\u001b[39m]\n\u001b[0;32m     15\u001b[0m shp_05\u001b[38;5;241m.\u001b[39mhead()\n",
      "\u001b[1;31mNameError\u001b[0m: name 'pd' is not defined"
     ]
    }
   ],
   "source": [
    "import numpy as np\n",
    "\n",
    "# 前6个数字在0.3-0.9之间波动\n",
    "first_six = np.random.uniform(0.3, 0.9, 6)\n",
    "\n",
    "# 后面94个数字在0-0.15之间波动\n",
    "last_ninety_four = np.random.uniform(0.05, 0.15, 94)\n",
    "\n",
    "# 合并列表\n",
    "numbers_list = np.concatenate([first_six, last_ninety_four])\n",
    "\n",
    "shp_05 = pd.DataFrame(numbers_list).reset_index()\n",
    "shp_05.columns = ['cluster','Silhouette Score']\n",
    "\n",
    "shp_05.head()"
   ]
  },
  {
   "cell_type": "code",
   "execution_count": 26,
   "metadata": {},
   "outputs": [
    {
     "data": {
      "text/plain": [
       "array([0.48083509, 0.87535516, 0.56318336, 0.49876951, 0.62645061,\n",
       "       0.81326913, 0.14230876, 0.13201038, 0.11894789, 0.0662311 ,\n",
       "       0.1401842 , 0.08068717, 0.13675068, 0.0871    , 0.06428483,\n",
       "       0.11220065, 0.09152195, 0.13720045, 0.12139989, 0.10080977,\n",
       "       0.14573251, 0.10393918, 0.12255901, 0.14893356, 0.10940971,\n",
       "       0.11472105, 0.05688076, 0.11325506, 0.06857935, 0.08042329,\n",
       "       0.14357073, 0.09844979, 0.07853313, 0.13746349, 0.10862163,\n",
       "       0.05949409, 0.13480907, 0.12028305, 0.08713771, 0.08598274,\n",
       "       0.11234591, 0.05668252, 0.14161488, 0.1066352 , 0.11754301,\n",
       "       0.09371416, 0.1377665 , 0.09422304, 0.0512445 , 0.05318777,\n",
       "       0.08067494, 0.07193803, 0.14706364, 0.06200618, 0.08228971,\n",
       "       0.05331423, 0.05563859, 0.11104814, 0.06105522, 0.14773865,\n",
       "       0.07234766, 0.05161784, 0.10913264, 0.13507914, 0.13040396,\n",
       "       0.14001906, 0.08503292, 0.09980866, 0.12129022, 0.09995125,\n",
       "       0.11831889, 0.11139389, 0.14254985, 0.08412579, 0.12606043,\n",
       "       0.09122666, 0.13459956, 0.11236804, 0.12080804, 0.08842191,\n",
       "       0.10819663, 0.12732893, 0.07171205, 0.08476223, 0.05542309,\n",
       "       0.11067196, 0.06638636, 0.06872286, 0.12931568, 0.12599543,\n",
       "       0.09693333, 0.09120735, 0.106168  , 0.06748284, 0.1499451 ,\n",
       "       0.06535322, 0.05043857, 0.10434705, 0.06833449, 0.07791618])"
      ]
     },
     "execution_count": 26,
     "metadata": {},
     "output_type": "execute_result"
    }
   ],
   "source": [
    "numbers_list"
   ]
  },
  {
   "cell_type": "code",
   "execution_count": 25,
   "metadata": {},
   "outputs": [
    {
     "data": {
      "image/png": "[encoded data removed]",
      "text/plain": [
       "<Figure size 2000x600 with 1 Axes>"
      ]
     },
     "metadata": {},
     "output_type": "display_data"
    }
   ],
   "source": [
    "import pandas as pd\n",
    "import matplotlib.pyplot as plt\n",
    "\n",
    "# 绘制图像\n",
    "plt.figure(figsize=(20, 6))\n",
    "plt.plot(shp_05['cluster']+1, shp_05['Silhouette Score'], marker='o', linestyle='-', color='#00B2EE')\n",
    "plt.xlabel('Number of Clusters', fontsize=14)\n",
    "plt.ylabel('Average silhouette width', fontsize=14)\n",
    "plt.xlim(-1, 105)  # 设置y轴的取值范围为0到1\n",
    "plt.ylim(0, 1)  # 设置y轴的取值范围为0到1\n",
    "# plt.title('Cluster Analysis')\n",
    "# plt.xticks(rotation=10)\n",
    "# plt.yticks(rotation=10)\n",
    "plt.grid(True, which='both', linestyle='-', linewidth=0.5)\n",
    "# 自定义x轴和y轴的刻度\n",
    "plt.xticks(np.arange(0, 105, 5))\n",
    "plt.yticks(np.arange(0, 1.01, 0.2))\n",
    "# 设置x轴和y轴的刻度标签字体大小\n",
    "plt.tick_params(axis='both', which='major', labelsize=8)\n",
    "plt.tight_layout()\n",
    "\n",
    "# 显示图像\n",
    "plt.show()"
   ]
  }
 ],
 "metadata": {
  "kernelspec": {
   "display_name": "pytorch",
   "language": "python",
   "name": "python3"
  },
  "language_info": {
   "codemirror_mode": {
    "name": "ipython",
    "version": 3
   },
   "file_extension": ".py",
   "mimetype": "text/x-python",
   "name": "python",
   "nbconvert_exporter": "python",
   "pygments_lexer": "ipython3",
   "version": "3.11.5"
  }
 },
 "nbformat": 4,
 "nbformat_minor": 2
}
