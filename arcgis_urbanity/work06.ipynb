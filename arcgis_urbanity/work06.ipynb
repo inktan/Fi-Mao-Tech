{
 "cells": [
  {
   "cell_type": "code",
   "execution_count": 1,
   "metadata": {},
   "outputs": [],
   "source": [
    "import os"
   ]
  },
  {
   "cell_type": "code",
   "execution_count": 4,
   "metadata": {},
   "outputs": [],
   "source": [
    "img_paths = []\n",
    "img_names = []\n",
    "accepted_formats = (\".png\", \".jpg\", \".JPG\", \".jpeg\", \".webp\")\n",
    "\n",
    "folder_path_list =[\n",
    "    r'E:\\work\\spatio_evo_urbanvisenv_svi\\sv\\panor',\n",
    "    ]\n",
    "for folder_path in folder_path_list:\n",
    "    for root, dirs, files in os.walk(folder_path):\n",
    "        for file in files:\n",
    "            if file.endswith(accepted_formats):\n",
    "                file_path = os.path.join(root, file)\n",
    "                img_paths.append(file_path)\n",
    "                img_names.append(file)"
   ]
  },
  {
   "cell_type": "code",
   "execution_count": 12,
   "metadata": {},
   "outputs": [],
   "source": [
    "img_names_ = [i.split('_')[3].split('.')[0] for i in img_names]\n",
    "# img_names_"
   ]
  },
  {
   "cell_type": "code",
   "execution_count": 13,
   "metadata": {},
   "outputs": [
    {
     "data": {
      "text/plain": [
       "21634"
      ]
     },
     "execution_count": 13,
     "metadata": {},
     "output_type": "execute_result"
    }
   ],
   "source": [
    "len(img_names)"
   ]
  },
  {
   "cell_type": "code",
   "execution_count": 15,
   "metadata": {},
   "outputs": [
    {
     "data": {
      "text/plain": [
       "Counter({'201309': 7069,\n",
       "         '201608': 5166,\n",
       "         '202107': 5107,\n",
       "         '202108': 3951,\n",
       "         '201311': 275,\n",
       "         '201310': 66})"
      ]
     },
     "execution_count": 15,
     "metadata": {},
     "output_type": "execute_result"
    }
   ],
   "source": [
    "from collections import Counter\n",
    "# 使用 Counter 计算每个元素的出现次数\n",
    "element_counts = Counter(img_names_)\n",
    "\n",
    "# 打印结果\n",
    "element_counts"
   ]
  },
  {
   "cell_type": "code",
   "execution_count": 18,
   "metadata": {},
   "outputs": [
    {
     "data": {
      "text/plain": [
       "Counter({'2021': 9058, '2013': 7410, '2016': 5166})"
      ]
     },
     "execution_count": 18,
     "metadata": {},
     "output_type": "execute_result"
    }
   ],
   "source": [
    "img_names_01 = [i[0:4] for i in img_names_]\n",
    "# img_names_01\n",
    "\n",
    "# 使用 Counter 计算每个元素的出现次数\n",
    "element_counts_ = Counter(img_names_01)\n",
    "\n",
    "# 打印结果\n",
    "element_counts_\n"
   ]
  }
 ],
 "metadata": {
  "kernelspec": {
   "display_name": "pytorch",
   "language": "python",
   "name": "python3"
  },
  "language_info": {
   "codemirror_mode": {
    "name": "ipython",
    "version": 3
   },
   "file_extension": ".py",
   "mimetype": "text/x-python",
   "name": "python",
   "nbconvert_exporter": "python",
   "pygments_lexer": "ipython3",
   "version": "3.11.5"
  }
 },
 "nbformat": 4,
 "nbformat_minor": 2
}
