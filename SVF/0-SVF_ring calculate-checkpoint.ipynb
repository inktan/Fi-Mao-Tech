{
 "cells": [
  {
   "cell_type": "code",
   "execution_count": null,
   "id": "6617fc51",
   "metadata": {},
   "outputs": [],
   "source": [
    "import cv2\n",
    "import numpy as np\n",
    "import os"
   ]
  },
  {
   "cell_type": "code",
   "execution_count": null,
   "id": "59c97a0a",
   "metadata": {},
   "outputs": [],
   "source": [
    "# 設定檔案路徑\n",
    "img_dir = r'C:\\Users\\AW\\Desktop\\SCS\\test1\\check'\n",
    "os.listdir(img_dir)"
   ]
  },
  {
   "cell_type": "code",
   "execution_count": null,
   "id": "fae13ed4",
   "metadata": {},
   "outputs": [],
   "source": [
    "# 读取图片\n",
    "filename = '20210313220005 0.436.bmp'\n",
    "image_path = img_dir + os.sep + filename  # 替换成你的鱼眼照片路径\n",
    "image = cv2.imread(image_path, cv2.IMREAD_GRAYSCALE) # 读取灰度图"
   ]
  },
  {
   "cell_type": "code",
   "execution_count": null,
   "id": "843c7171",
   "metadata": {},
   "outputs": [],
   "source": [
    "# # 显示测试图片\n",
    "# cv2.imshow('fisheye_bmp',image)\n",
    "# cv2.waitKey(0)\n",
    "# cv2.destroyAllWindows()"
   ]
  },
  {
   "cell_type": "code",
   "execution_count": null,
   "id": "40c2cbf4",
   "metadata": {},
   "outputs": [],
   "source": [
    "# openCV统计某一圆环区域内的白色像素数量\n",
    "\n",
    "# 返回圆环掩膜遮挡下的原图像\n",
    "def draw_ring(image, center, inner_radius, outer_radius):\n",
    "    mask = np.zeros_like(image)\n",
    "    cv2.circle(mask, center, outer_radius, (255), -1)\n",
    "    cv2.circle(mask, center, inner_radius, (0), -1)\n",
    "    result = cv2.bitwise_and(image, mask)\n",
    "    return result\n",
    "\n",
    "# 统计圆环掩膜中白色像素数量\n",
    "def count_white_pixels(image):\n",
    "    return np.sum(image == 255)  "
   ]
  },
  {
   "cell_type": "code",
   "execution_count": null,
   "id": "eb3f427c",
   "metadata": {},
   "outputs": [],
   "source": [
    "def calculate_sky_view_factor_1(image_path, n):\n",
    "    # 读取鱼眼照片\n",
    "    img = cv2.imread(image_path, cv2.IMREAD_GRAYSCALE)\n",
    "\n",
    "    # 获取图像的宽度和高度\n",
    "    height, width = img.shape\n",
    "\n",
    "    # 计算中心点坐标\n",
    "    center_x, center_y = width // 2, height // 2\n",
    "#     print(center_x, center_y)\n",
    "\n",
    "    # 计算每个环形圈的宽度（环形宽度）\n",
    "    ring_width = width // (2 * n)\n",
    "#     print(ring_width)\n",
    "\n",
    "    # 初始化天空像素点和总像素点数\n",
    "    sky_pixels = 0\n",
    "    total_pixels = 0\n",
    "\n",
    "    # 遍历每个环形圈，计算其贡献\n",
    "    for i in range(n):\n",
    "        # 计算当前环形圈的半径\n",
    "        outer_radius = ring_width * (i + 1)\n",
    "        inner_radius = ring_width * i\n",
    "\n",
    "        # 创建一个环形的掩膜图像\n",
    "        ring_img = draw_ring(img, (center_x, center_y), inner_radius, outer_radius)\n",
    "        # 统计圆环处白色像素的数量\n",
    "        sky_pixels_ring = count_white_pixels(ring_img)\n",
    "#         print(sky_pixels_ring)\n",
    "        \n",
    "        # 创建一个空白的掩膜图像\n",
    "        mask1 = np.zeros_like(img)\n",
    "        # 在建立内圆和外圆并赋以白色\n",
    "        cv2.circle(mask1,(center_x, center_y), outer_radius, (255), -1)\n",
    "        cv2.circle(mask1,(center_x, center_y), inner_radius, (0), -1)\n",
    "        # 统计圆环总像素数量\n",
    "        total_pixels_ring = np.sum(mask1 == 255)\n",
    "#         print(total_pixels_ring)\n",
    "\n",
    "        # 统计pi/ti\n",
    "        sky_ratio_ring = sky_pixels_ring/total_pixels_ring \n",
    "#         print(i,sky_ratio_ring)\n",
    "\n",
    "        # 累加到总的天空像素点和总像素点数【按公式】\n",
    "        sky_pixels += sky_ratio_ring * np.sin((np.pi * (2 * i + 1))/(4 * n))\n",
    "#         print(i,sky_pixels)\n",
    "        total_pixels += total_pixels_ring\n",
    "\n",
    "    # 计算天空视因子【按公式】\n",
    "    sky_view_factor = np.pi * sky_pixels /(2 * n)\n",
    "\n",
    "    return sky_view_factor, total_pixels"
   ]
  },
  {
   "cell_type": "code",
   "execution_count": null,
   "id": "c54d8d8e",
   "metadata": {},
   "outputs": [],
   "source": [
    "# 示例使用\n",
    "result = calculate_sky_view_factor_1(image_path,80)\n",
    "print(\"Sky View Factor:\", result[0])\n",
    "print(\"total_pixels:\",result[1])"
   ]
  }
 ],
 "metadata": {
  "kernelspec": {
   "display_name": "Python 3 (ipykernel)",
   "language": "python",
   "name": "python3"
  },
  "language_info": {
   "codemirror_mode": {
    "name": "ipython",
    "version": 3
   },
   "file_extension": ".py",
   "mimetype": "text/x-python",
   "name": "python",
   "nbconvert_exporter": "python",
   "pygments_lexer": "ipython3",
   "version": "3.9.7"
  }
 },
 "nbformat": 4,
 "nbformat_minor": 5
}
