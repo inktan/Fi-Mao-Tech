{
 "cells": [
  {
   "cell_type": "code",
   "execution_count": 3,
   "metadata": {},
   "outputs": [],
   "source": [
    "# import os\n",
    "\n",
    "# img_paths = []\n",
    "# img_names = []\n",
    "# accepted_formats = (\".png\", \".jpg\", \".JPG\", \".jpeg\", \".webp\")\n",
    "\n",
    "# for root, dirs, files in os.walk(r'F:\\sv_hk_20240521\\sv'):\n",
    "#     for file in files:\n",
    "#         if file.endswith(accepted_formats):\n",
    "#             file_path = os.path.join(root, file)\n",
    "#             img_paths.append(file_path)\n",
    "#             img_names.append(file)\n",
    "\n",
    "# ids = []\n",
    "# for file_name in img_names:\n",
    "#     # 使用'_'分割文件名\n",
    "#     parts = file_name.split('_')\n",
    "#     # 假设ID是分割后的第一个部分\n",
    "#     id_ = parts[0]\n",
    "#     # 将ID添加到列表中\n",
    "#     ids.append(id_)\n",
    "\n",
    "# len(ids)"
   ]
  },
  {
   "cell_type": "code",
   "execution_count": 4,
   "metadata": {},
   "outputs": [],
   "source": [
    "# import json\n",
    "\n",
    "# # 确保你的JSON文件路径是正确的\n",
    "# file_path = 'e:\\work\\sv_j_ran\\sv_google_20240903\\data_coor_id_panoramas_infos.json'\n",
    "\n",
    "# # 使用with语句确保文件正确关闭\n",
    "# with open(file_path, 'r', encoding='utf-8') as file:\n",
    "#     data05 = json.load(file)\n",
    "\n",
    "# # 现在 data 变量包含了文件中的JSON数据\n",
    "# print(data05)\n"
   ]
  },
  {
   "cell_type": "code",
   "execution_count": 5,
   "metadata": {},
   "outputs": [],
   "source": [
    "# 遍历字典的项（键和值）  \n",
    "# for key, value in data05.items():  \n",
    "#     print(key, value)\n",
    "    \n",
    "# print(list(data05.values()))\n"
   ]
  },
  {
   "cell_type": "code",
   "execution_count": 6,
   "metadata": {},
   "outputs": [],
   "source": [
    "# main_list = list(data05.values())\n",
    "# print(len(main_list))\n",
    "\n",
    "# empty_lists_count = sum(1 for sublist in main_list if not sublist)\n",
    "# print(empty_lists_count)"
   ]
  },
  {
   "cell_type": "code",
   "execution_count": 7,
   "metadata": {},
   "outputs": [],
   "source": [
    "# from collections import defaultdict\n",
    "\n",
    "# date_year_month_counts = defaultdict(int)\n",
    "\n",
    "# # 遍历每个列表和字典\n",
    "# for list_of_dict in main_list:\n",
    "#     for d in list_of_dict:\n",
    "#         # 获取date_year_month的值\n",
    "#         # date_value = d.get(\"date_year_month\", None)\n",
    "#         # date_value = d.get(\"year\", None)\n",
    "#         date_value = d.get(\"month\", None)\n",
    "#         # 如果date_year_month存在，则增加其计数\n",
    "#         if date_value:\n",
    "#             date_value*=12\n",
    "#             date_year_month_counts[date_value] += 1\n",
    "\n",
    "# # 使用sorted函数和lambda表达式进行排序\n",
    "# sorted_dict = dict(sorted(date_year_month_counts.items(), key=lambda item: item[1], reverse=True))\n",
    "# sorted_dict"
   ]
  },
  {
   "cell_type": "code",
   "execution_count": null,
   "metadata": {},
   "outputs": [],
   "source": []
  },
  {
   "cell_type": "code",
   "execution_count": null,
   "metadata": {},
   "outputs": [],
   "source": []
  }
 ],
 "metadata": {
  "kernelspec": {
   "display_name": "pytorch",
   "language": "python",
   "name": "python3"
  },
  "language_info": {
   "codemirror_mode": {
    "name": "ipython",
    "version": 3
   },
   "file_extension": ".py",
   "mimetype": "text/x-python",
   "name": "python",
   "nbconvert_exporter": "python",
   "pygments_lexer": "ipython3",
   "version": "3.12.4"
  }
 },
 "nbformat": 4,
 "nbformat_minor": 2
}
