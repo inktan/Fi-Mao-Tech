{
 "cells": [
  {
   "cell_type": "code",
   "execution_count": 1,
   "metadata": {},
   "outputs": [],
   "source": [
    "import matplotlib.pyplot as plt\n",
    "import numpy as np\n",
    "from matplotlib import colors as mcolors\n",
    "import os\n",
    "import pandas as pd\n"
   ]
  },
  {
   "cell_type": "code",
   "execution_count": 3,
   "metadata": {},
   "outputs": [],
   "source": [
    "# 设定要遍历的文件夹路径\n",
    "folder_path = r'E:\\work\\sv_jourdan\\sv'\n",
    "\n",
    "# 初始化一个列表来存储文件夹和文件名\n",
    "data = []\n",
    "\n",
    "# 遍历文件夹\n",
    "for folder_name in os.listdir(folder_path):\n",
    "    folder_path_full = os.path.join(folder_path, folder_name)\n",
    "    \n",
    "    # 确保是文件夹\n",
    "    if os.path.isdir(folder_path_full):\n",
    "        # 遍历文件夹中的文件\n",
    "        for file_name in os.listdir(folder_path_full):\n",
    "            file_path_full = os.path.join(folder_path_full, file_name)\n",
    "            \n",
    "            # 确保是文件\n",
    "            if os.path.isfile(file_path_full):\n",
    "                # 将文件夹名和文件名添加到数据列表\n",
    "                data.append([folder_name, file_name])\n",
    "\n",
    "# 将数据列表转换为pandas DataFrame\n",
    "df = pd.DataFrame(data, columns=['Folder', 'File'])\n",
    "\n",
    "# 保存DataFrame到CSV文件\n",
    "df.to_csv(r'E:\\work\\sv_jourdan\\sv\\scores.csv', index=False)\n"
   ]
  }
 ],
 "metadata": {
  "kernelspec": {
   "display_name": "pytorch",
   "language": "python",
   "name": "python3"
  },
  "language_info": {
   "codemirror_mode": {
    "name": "ipython",
    "version": 3
   },
   "file_extension": ".py",
   "mimetype": "text/x-python",
   "name": "python",
   "nbconvert_exporter": "python",
   "pygments_lexer": "ipython3",
   "version": "3.11.5"
  }
 },
 "nbformat": 4,
 "nbformat_minor": 2
}
