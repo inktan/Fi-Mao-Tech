{
 "cells": [
  {
   "cell_type": "code",
   "execution_count": 18,
   "metadata": {},
   "outputs": [],
   "source": [
    "import geopandas as gpd\n",
    "import pandas as pd\n",
    "import matplotlib.pyplot as plt"
   ]
  },
  {
   "cell_type": "code",
   "execution_count": 20,
   "metadata": {},
   "outputs": [
    {
     "name": "stderr",
     "output_type": "stream",
     "text": [
      "C:\\Users\\wang.tan.GOA\\AppData\\Roaming\\Python\\Python311\\site-packages\\IPython\\core\\interactiveshell.py:3493: FutureWarning: The `op` parameter is deprecated and will be removed in a future release. Please use the `predicate` parameter instead.\n",
      "  if await self.run_code(code, result, async_=asy):\n"
     ]
    },
    {
     "data": {
      "text/html": [
       "<div>\n",
       "<style scoped>\n",
       "    .dataframe tbody tr th:only-of-type {\n",
       "        vertical-align: middle;\n",
       "    }\n",
       "\n",
       "    .dataframe tbody tr th {\n",
       "        vertical-align: top;\n",
       "    }\n",
       "\n",
       "    .dataframe thead th {\n",
       "        text-align: right;\n",
       "    }\n",
       "</style>\n",
       "<table border=\"1\" class=\"dataframe\">\n",
       "  <thead>\n",
       "    <tr style=\"text-align: right;\">\n",
       "      <th></th>\n",
       "      <th>id</th>\n",
       "      <th>lng</th>\n",
       "      <th>lat</th>\n",
       "      <th>score</th>\n",
       "      <th>geometry</th>\n",
       "      <th>index_right</th>\n",
       "      <th>NAME_2</th>\n",
       "    </tr>\n",
       "  </thead>\n",
       "  <tbody>\n",
       "    <tr>\n",
       "      <th>0</th>\n",
       "      <td>4</td>\n",
       "      <td>113.551578</td>\n",
       "      <td>22.156971</td>\n",
       "      <td>7</td>\n",
       "      <td>POINT (113.55158 22.15697)</td>\n",
       "      <td>1</td>\n",
       "      <td>Nossa Senhora do Carmo</td>\n",
       "    </tr>\n",
       "    <tr>\n",
       "      <th>1</th>\n",
       "      <td>6</td>\n",
       "      <td>113.563485</td>\n",
       "      <td>22.172165</td>\n",
       "      <td>2</td>\n",
       "      <td>POINT (113.56349 22.17217)</td>\n",
       "      <td>1</td>\n",
       "      <td>Nossa Senhora do Carmo</td>\n",
       "    </tr>\n",
       "    <tr>\n",
       "      <th>3</th>\n",
       "      <td>8</td>\n",
       "      <td>113.567327</td>\n",
       "      <td>22.155746</td>\n",
       "      <td>7</td>\n",
       "      <td>POINT (113.56733 22.15575)</td>\n",
       "      <td>1</td>\n",
       "      <td>Nossa Senhora do Carmo</td>\n",
       "    </tr>\n",
       "    <tr>\n",
       "      <th>4</th>\n",
       "      <td>10</td>\n",
       "      <td>113.561514</td>\n",
       "      <td>22.159147</td>\n",
       "      <td>8</td>\n",
       "      <td>POINT (113.56151 22.15915)</td>\n",
       "      <td>1</td>\n",
       "      <td>Nossa Senhora do Carmo</td>\n",
       "    </tr>\n",
       "    <tr>\n",
       "      <th>7</th>\n",
       "      <td>13</td>\n",
       "      <td>113.544701</td>\n",
       "      <td>22.164086</td>\n",
       "      <td>2</td>\n",
       "      <td>POINT (113.54470 22.16409)</td>\n",
       "      <td>1</td>\n",
       "      <td>Nossa Senhora do Carmo</td>\n",
       "    </tr>\n",
       "  </tbody>\n",
       "</table>\n",
       "</div>"
      ],
      "text/plain": [
       "   id         lng        lat  score                    geometry  index_right  \\\n",
       "0   4  113.551578  22.156971      7  POINT (113.55158 22.15697)            1   \n",
       "1   6  113.563485  22.172165      2  POINT (113.56349 22.17217)            1   \n",
       "3   8  113.567327  22.155746      7  POINT (113.56733 22.15575)            1   \n",
       "4  10  113.561514  22.159147      8  POINT (113.56151 22.15915)            1   \n",
       "7  13  113.544701  22.164086      2  POINT (113.54470 22.16409)            1   \n",
       "\n",
       "                   NAME_2  \n",
       "0  Nossa Senhora do Carmo  \n",
       "1  Nossa Senhora do Carmo  \n",
       "3  Nossa Senhora do Carmo  \n",
       "4  Nossa Senhora do Carmo  \n",
       "7  Nossa Senhora do Carmo  "
      ]
     },
     "execution_count": 20,
     "metadata": {},
     "output_type": "execute_result"
    }
   ],
   "source": [
    "# 读取面Shapefile\n",
    "polygons = gpd.read_file(r'e:\\work\\sv_jourdan\\arcgis\\data\\topython\\polygon.shp')\n",
    "\n",
    "# 读取点Shapefile\n",
    "points = gpd.read_file(r'e:\\work\\sv_jourdan\\arcgis\\data\\topython\\point.shp')\n",
    "\n",
    "# 确保两个GeoDataFrames的CRS相同\n",
    "points = points.to_crs(polygons.crs)\n",
    "\n",
    "#Spatial join between points and polygons\n",
    "joined = gpd.sjoin(points, polygons, how=\"inner\", op=\"within\")\n",
    "\n",
    "# 查看结果\n",
    "joined.head()"
   ]
  },
  {
   "cell_type": "code",
   "execution_count": 28,
   "metadata": {},
   "outputs": [],
   "source": [
    "grouped = joined.groupby('NAME_2')['score'].apply(list)"
   ]
  },
  {
   "cell_type": "code",
   "execution_count": 40,
   "metadata": {},
   "outputs": [
    {
     "data": {
      "text/plain": [
       "NAME_2\n",
       "Cotai                      [8, 8, 8, 7, 7, 8, 8, 2, 7, 7, 2, 2, 7, 4, 7, ...\n",
       "Nossa Senhora de Fátima    [8, 8, 7, 7, 8, 7, 8, 8, 7, 8, 7, 2, 8, 4, 8, ...\n",
       "Nossa Senhora do Carmo     [7, 2, 7, 8, 2, 7, 8, 7, 4, 8, 7, 4, 8, 7, 8, ...\n",
       "Santo António              [7, 8, 7, 7, 7, 7, 7, 7, 4, 4, 7, 7, 8, 7, 7, ...\n",
       "São Francisco Xavier       [8, 7, 7, 7, 8, 7, 7, 7, 2, 2, 8, 2, 4, 2, 8, ...\n",
       "São Lourenço               [8, 4, 7, 7, 7, 4, 7, 7, 8, 8, 7, 7, 7, 7, 7, ...\n",
       "São Lázaro                 [7, 8, 7, 8, 8, 7, 7, 4, 7, 4, 4, 8, 7, 8, 4, ...\n",
       "Sé                         [8, 2, 2, 7, 7, 8, 8, 8, 4, 2, 8, 8, 8, 7, 4, ...\n",
       "Name: score, dtype: object"
      ]
     },
     "execution_count": 40,
     "metadata": {},
     "output_type": "execute_result"
    }
   ],
   "source": [
    "grouped\n",
    "# type(grouped)"
   ]
  },
  {
   "cell_type": "code",
   "execution_count": 69,
   "metadata": {},
   "outputs": [],
   "source": [
    "# 创建一个新的DataFrame，其中包含NAME_2和对应的score列表\n",
    "df = pd.DataFrame(grouped).reset_index()"
   ]
  },
  {
   "cell_type": "code",
   "execution_count": 81,
   "metadata": {},
   "outputs": [
    {
     "data": {
      "text/plain": [
       "8"
      ]
     },
     "execution_count": 81,
     "metadata": {},
     "output_type": "execute_result"
    }
   ],
   "source": [
    "df.shape[0]"
   ]
  },
  {
   "cell_type": "code",
   "execution_count": 91,
   "metadata": {},
   "outputs": [],
   "source": [
    "dict={}\n",
    "for i in range(df.shape[0]):\n",
    "    dict[df.iloc[i,0]] = df.iloc[i,1]"
   ]
  },
  {
   "cell_type": "code",
   "execution_count": 102,
   "metadata": {},
   "outputs": [
    {
     "name": "stderr",
     "output_type": "stream",
     "text": [
      "C:\\Users\\wang.tan.GOA\\AppData\\Roaming\\Python\\Python311\\site-packages\\IPython\\core\\pylabtools.py:152: UserWarning: Glyph 20540 (\\N{CJK UNIFIED IDEOGRAPH-503C}) missing from current font.\n",
      "  fig.canvas.print_figure(bytes_io, **kw)\n",
      "C:\\Users\\wang.tan.GOA\\AppData\\Roaming\\Python\\Python311\\site-packages\\IPython\\core\\pylabtools.py:152: UserWarning: Glyph 31665 (\\N{CJK UNIFIED IDEOGRAPH-7BB1}) missing from current font.\n",
      "  fig.canvas.print_figure(bytes_io, **kw)\n",
      "C:\\Users\\wang.tan.GOA\\AppData\\Roaming\\Python\\Python311\\site-packages\\IPython\\core\\pylabtools.py:152: UserWarning: Glyph 22411 (\\N{CJK UNIFIED IDEOGRAPH-578B}) missing from current font.\n",
      "  fig.canvas.print_figure(bytes_io, **kw)\n",
      "C:\\Users\\wang.tan.GOA\\AppData\\Roaming\\Python\\Python311\\site-packages\\IPython\\core\\pylabtools.py:152: UserWarning: Glyph 22270 (\\N{CJK UNIFIED IDEOGRAPH-56FE}) missing from current font.\n",
      "  fig.canvas.print_figure(bytes_io, **kw)\n"
     ]
    },
    {
     "data": {
      "image/png": "[encoded data removed]",
      "text/plain": [
       "<Figure size 2400x600 with 1 Axes>"
      ]
     },
     "metadata": {},
     "output_type": "display_data"
    }
   ],
   "source": [
    "import matplotlib.pyplot as plt\n",
    "# Creating the box plot\n",
    "plt.figure(figsize=(24, 6))\n",
    "plt.boxplot(dict.values(), labels=dict.keys())\n",
    "plt.title(\"箱型图\")\n",
    "plt.ylabel(\"值\")\n",
    "plt.grid(True)\n",
    "plt.show()\n"
   ]
  },
  {
   "cell_type": "code",
   "execution_count": 104,
   "metadata": {},
   "outputs": [
    {
     "name": "stderr",
     "output_type": "stream",
     "text": [
      "C:\\Users\\wang.tan.GOA\\AppData\\Roaming\\Python\\Python311\\site-packages\\IPython\\core\\pylabtools.py:152: UserWarning: Glyph 20540 (\\N{CJK UNIFIED IDEOGRAPH-503C}) missing from current font.\n",
      "  fig.canvas.print_figure(bytes_io, **kw)\n",
      "C:\\Users\\wang.tan.GOA\\AppData\\Roaming\\Python\\Python311\\site-packages\\IPython\\core\\pylabtools.py:152: UserWarning: Glyph 31665 (\\N{CJK UNIFIED IDEOGRAPH-7BB1}) missing from current font.\n",
      "  fig.canvas.print_figure(bytes_io, **kw)\n",
      "C:\\Users\\wang.tan.GOA\\AppData\\Roaming\\Python\\Python311\\site-packages\\IPython\\core\\pylabtools.py:152: UserWarning: Glyph 22411 (\\N{CJK UNIFIED IDEOGRAPH-578B}) missing from current font.\n",
      "  fig.canvas.print_figure(bytes_io, **kw)\n",
      "C:\\Users\\wang.tan.GOA\\AppData\\Roaming\\Python\\Python311\\site-packages\\IPython\\core\\pylabtools.py:152: UserWarning: Glyph 22270 (\\N{CJK UNIFIED IDEOGRAPH-56FE}) missing from current font.\n",
      "  fig.canvas.print_figure(bytes_io, **kw)\n"
     ]
    },
    {
     "data": {
      "image/png": "[encoded data removed]",
      "text/plain": [
       "<Figure size 2400x600 with 1 Axes>"
      ]
     },
     "metadata": {},
     "output_type": "display_data"
    }
   ],
   "source": [
    "import matplotlib.pyplot as plt\n",
    "\n",
    "# 假设这是你的数据字典\n",
    "dict_data = dict\n",
    "\n",
    "# 创建箱型图\n",
    "plt.figure(figsize=(24, 6))\n",
    "bplot = plt.boxplot(dict_data.values(), labels=dict_data.keys(), patch_artist=True)\n",
    "\n",
    "# 设置箱体颜色\n",
    "colors = ['pink', 'lightblue', 'lightgreen']\n",
    "for patch, color in zip(bplot['boxes'], colors):\n",
    "    patch.set_facecolor(color)\n",
    "\n",
    "# 设置须的颜色\n",
    "for whisker in bplot['whiskers']:\n",
    "    whisker.set(color='black', linewidth=1.5)\n",
    "\n",
    "# 设置离群点的颜色\n",
    "for flier in bplot['fliers']:\n",
    "    flier.set(marker='o', color='red', alpha=0.5)\n",
    "\n",
    "plt.title(\"箱型图\")\n",
    "plt.ylabel(\"值\")\n",
    "plt.grid(True)\n",
    "plt.show()\n"
   ]
  },
  {
   "cell_type": "code",
   "execution_count": 62,
   "metadata": {},
   "outputs": [],
   "source": [
    "import pandas as pd\n",
    "import numpy as np\n",
    "\n",
    "# 创建一个包含随机数据的DataFrame\n",
    "data = pd.DataFrame({\n",
    "    'A': np.random.randn(100),\n",
    "    'B': np.random.randn(100) + 1,\n",
    "    'C': np.random.randn(100) - 1\n",
    "})\n"
   ]
  },
  {
   "cell_type": "code",
   "execution_count": 63,
   "metadata": {},
   "outputs": [
    {
     "data": {
      "text/html": [
       "<div>\n",
       "<style scoped>\n",
       "    .dataframe tbody tr th:only-of-type {\n",
       "        vertical-align: middle;\n",
       "    }\n",
       "\n",
       "    .dataframe tbody tr th {\n",
       "        vertical-align: top;\n",
       "    }\n",
       "\n",
       "    .dataframe thead th {\n",
       "        text-align: right;\n",
       "    }\n",
       "</style>\n",
       "<table border=\"1\" class=\"dataframe\">\n",
       "  <thead>\n",
       "    <tr style=\"text-align: right;\">\n",
       "      <th></th>\n",
       "      <th>A</th>\n",
       "      <th>B</th>\n",
       "      <th>C</th>\n",
       "    </tr>\n",
       "  </thead>\n",
       "  <tbody>\n",
       "    <tr>\n",
       "      <th>0</th>\n",
       "      <td>-0.318481</td>\n",
       "      <td>2.909105</td>\n",
       "      <td>-0.740452</td>\n",
       "    </tr>\n",
       "    <tr>\n",
       "      <th>1</th>\n",
       "      <td>-0.103694</td>\n",
       "      <td>2.121163</td>\n",
       "      <td>-1.302876</td>\n",
       "    </tr>\n",
       "    <tr>\n",
       "      <th>2</th>\n",
       "      <td>-0.292148</td>\n",
       "      <td>3.249576</td>\n",
       "      <td>-1.266671</td>\n",
       "    </tr>\n",
       "    <tr>\n",
       "      <th>3</th>\n",
       "      <td>-0.153979</td>\n",
       "      <td>1.705236</td>\n",
       "      <td>-0.006083</td>\n",
       "    </tr>\n",
       "    <tr>\n",
       "      <th>4</th>\n",
       "      <td>-0.780348</td>\n",
       "      <td>2.667072</td>\n",
       "      <td>0.873686</td>\n",
       "    </tr>\n",
       "    <tr>\n",
       "      <th>...</th>\n",
       "      <td>...</td>\n",
       "      <td>...</td>\n",
       "      <td>...</td>\n",
       "    </tr>\n",
       "    <tr>\n",
       "      <th>95</th>\n",
       "      <td>-0.218134</td>\n",
       "      <td>2.341237</td>\n",
       "      <td>-0.971500</td>\n",
       "    </tr>\n",
       "    <tr>\n",
       "      <th>96</th>\n",
       "      <td>1.418604</td>\n",
       "      <td>1.921460</td>\n",
       "      <td>-0.588178</td>\n",
       "    </tr>\n",
       "    <tr>\n",
       "      <th>97</th>\n",
       "      <td>0.685758</td>\n",
       "      <td>-0.284312</td>\n",
       "      <td>-3.266636</td>\n",
       "    </tr>\n",
       "    <tr>\n",
       "      <th>98</th>\n",
       "      <td>0.153485</td>\n",
       "      <td>1.598959</td>\n",
       "      <td>-0.223978</td>\n",
       "    </tr>\n",
       "    <tr>\n",
       "      <th>99</th>\n",
       "      <td>0.039661</td>\n",
       "      <td>0.720170</td>\n",
       "      <td>0.826062</td>\n",
       "    </tr>\n",
       "  </tbody>\n",
       "</table>\n",
       "<p>100 rows × 3 columns</p>\n",
       "</div>"
      ],
      "text/plain": [
       "           A         B         C\n",
       "0  -0.318481  2.909105 -0.740452\n",
       "1  -0.103694  2.121163 -1.302876\n",
       "2  -0.292148  3.249576 -1.266671\n",
       "3  -0.153979  1.705236 -0.006083\n",
       "4  -0.780348  2.667072  0.873686\n",
       "..       ...       ...       ...\n",
       "95 -0.218134  2.341237 -0.971500\n",
       "96  1.418604  1.921460 -0.588178\n",
       "97  0.685758 -0.284312 -3.266636\n",
       "98  0.153485  1.598959 -0.223978\n",
       "99  0.039661  0.720170  0.826062\n",
       "\n",
       "[100 rows x 3 columns]"
      ]
     },
     "execution_count": 63,
     "metadata": {},
     "output_type": "execute_result"
    }
   ],
   "source": [
    "data"
   ]
  },
  {
   "cell_type": "code",
   "execution_count": null,
   "metadata": {},
   "outputs": [],
   "source": [
    "\n",
    "# 绘制箱型图\n",
    "data.boxplot()\n",
    "\n",
    "# 显示图表\n",
    "import matplotlib.pyplot as plt\n",
    "plt.show()\n"
   ]
  }
 ],
 "metadata": {
  "kernelspec": {
   "display_name": "pytorch",
   "language": "python",
   "name": "python3"
  },
  "language_info": {
   "codemirror_mode": {
    "name": "ipython",
    "version": 3
   },
   "file_extension": ".py",
   "mimetype": "text/x-python",
   "name": "python",
   "nbconvert_exporter": "python",
   "pygments_lexer": "ipython3",
   "version": "3.11.5"
  }
 },
 "nbformat": 4,
 "nbformat_minor": 2
}
